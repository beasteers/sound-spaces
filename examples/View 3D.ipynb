{
 "cells": [
  {
   "cell_type": "code",
   "execution_count": null,
   "id": "b521f684-3020-4b0c-9971-8418ecfab30f",
   "metadata": {},
   "outputs": [],
   "source": [
    "%cd /sound-spaces"
   ]
  },
  {
   "cell_type": "code",
   "execution_count": null,
   "id": "8111975f-4cd1-444b-89ae-14d78f1c4b44",
   "metadata": {},
   "outputs": [],
   "source": [
    "%pip install -q trimesh"
   ]
  },
  {
   "cell_type": "code",
   "execution_count": null,
   "id": "0541dcb4-9159-48d9-916d-1316cea8ec8f",
   "metadata": {},
   "outputs": [],
   "source": [
    "import trimesh\n",
    "glb_file = 'data/scene_datasets/habitat-test-scenes/van-gogh-room.glb'\n",
    "scene = trimesh.load(glb_file)\n",
    "scene.show()"
   ]
  },
  {
   "cell_type": "code",
   "execution_count": null,
   "id": "5fb6cf03-9d72-450f-a34c-6911947233e4",
   "metadata": {},
   "outputs": [],
   "source": [
    "import glob"
   ]
  },
  {
   "cell_type": "code",
   "execution_count": null,
   "id": "1b57df6a-992a-445c-9d8a-66831ef220b8",
   "metadata": {},
   "outputs": [],
   "source": [
    "fs = glob.glob('data/scene_datasets/**/*.glb', recursive=True)\n",
    "fs"
   ]
  },
  {
   "cell_type": "code",
   "execution_count": null,
   "id": "25ecda4d-2c0a-492a-9f76-501e34005f35",
   "metadata": {},
   "outputs": [],
   "source": [
    "from IPython.display import display"
   ]
  },
  {
   "cell_type": "code",
   "execution_count": null,
   "id": "c8655f10-d761-48c4-b719-f7db559139f5",
   "metadata": {},
   "outputs": [],
   "source": [
    "for f in fs[:3]:\n",
    "    scene = trimesh.load(f)\n",
    "    display(scene.show())"
   ]
  },
  {
   "cell_type": "code",
   "execution_count": null,
   "id": "1cf15e45-801c-4bb2-b881-2a1517d7acd2",
   "metadata": {},
   "outputs": [],
   "source": []
  }
 ],
 "metadata": {
  "kernelspec": {
   "display_name": "soundspaces",
   "language": "python",
   "name": "soundspaces"
  },
  "language_info": {
   "codemirror_mode": {
    "name": "ipython",
    "version": 3
   },
   "file_extension": ".py",
   "mimetype": "text/x-python",
   "name": "python",
   "nbconvert_exporter": "python",
   "pygments_lexer": "ipython3",
   "version": "3.9.19"
  }
 },
 "nbformat": 4,
 "nbformat_minor": 5
}

{
 "cells": [
  {
   "cell_type": "code",
   "execution_count": null,
   "id": "b521f684-3020-4b0c-9971-8418ecfab30f",
   "metadata": {},
   "outputs": [],
   "source": [
    "%cd /sound-spaces"
   ]
  },
  {
   "cell_type": "code",
   "execution_count": null,
   "id": "8111975f-4cd1-444b-89ae-14d78f1c4b44",
   "metadata": {},
   "outputs": [],
   "source": [
    "%pip install -q trimesh"
   ]
  },
  {
   "cell_type": "code",
   "execution_count": null,
   "id": "0541dcb4-9159-48d9-916d-1316cea8ec8f",
   "metadata": {},
   "outputs": [],
   "source": [
    "import trimesh\n",
    "glb_file = 'data/scene_datasets/mp3d_example/17DRP5sb8fy/17DRP5sb8fy.glb'\n",
    "scene = trimesh.load(glb_file)\n",
    "scene.show()"
   ]
  },
  {
   "cell_type": "code",
   "execution_count": null,
   "id": "5fb6cf03-9d72-450f-a34c-6911947233e4",
   "metadata": {},
   "outputs": [],
   "source": [
    "import glob"
   ]
  },
  {
   "cell_type": "code",
   "execution_count": null,
   "id": "1b57df6a-992a-445c-9d8a-66831ef220b8",
   "metadata": {},
   "outputs": [],
   "source": [
    "fs = glob.glob('data/scene_datasets/**/*.glb', recursive=True)\n",
    "fs"
   ]
  },
  {
   "cell_type": "code",
   "execution_count": null,
   "id": "25ecda4d-2c0a-492a-9f76-501e34005f35",
   "metadata": {},
   "outputs": [],
   "source": [
    "from IPython.display import display"
   ]
  },
  {
   "cell_type": "code",
   "execution_count": null,
   "id": "c8655f10-d761-48c4-b719-f7db559139f5",
   "metadata": {
    "scrolled": true
   },
   "outputs": [],
   "source": [
    "for f in fs[:3]:\n",
    "    scene = trimesh.load(f)\n",
    "    display(scene.show())"
   ]
  },
  {
   "cell_type": "code",
   "execution_count": null,
   "id": "88dcf656-2544-4b3e-9305-4b6175fbdaf0",
   "metadata": {},
   "outputs": [],
   "source": [
    "import trimesh\n",
    "import pandas as pd\n",
    "from trimesh.visual import ColorVisuals\n",
    "\n",
    "yellow = [183, 255, 84]\n",
    "red = [255, 0, 0] \n",
    "\n",
    "df = pd.read_csv('IR_wavs/source_positions.csv')\n",
    "coords = df[['x', 'y', 'z']].values\n",
    "\n",
    "# make the mic sphere red so it is visually distinguishable \n",
    "x, y, z = coords[0]\n",
    "first_sphere = trimesh.creation.uv_sphere(radius=0.2)\n",
    "first_sphere.apply_translation([x, y, z])\n",
    "first_sphere.visual.face_colors = red\n",
    "\n",
    "spheres = []\n",
    "radius = 0.2\n",
    "for x, y, z in coords[1:]:\n",
    "    sphere = trimesh.creation.uv_sphere(radius=radius)\n",
    "    sphere.apply_translation([x, y, z])\n",
    "    sphere.visual.face_colors = yellow\n",
    "    spheres.append(sphere)\n",
    "\n",
    "glb_file = 'data/scene_datasets/mp3d_example/17DRP5sb8fy/17DRP5sb8fy.glb'\n",
    "scene = trimesh.load(glb_file)\n",
    "\n",
    "scene.add_geometry(first_sphere)\n",
    "for sphere in spheres:\n",
    "    scene.add_geometry(sphere)\n",
    "\n",
    "scene.show()"
   ]
  },
  {
   "cell_type": "code",
   "execution_count": null,
   "id": "38bc885a-3f25-4566-adf2-57f6660385cb",
   "metadata": {},
   "outputs": [],
   "source": [
    "#create empty navmesh \n",
    "import trimesh\n",
    "plane = trimesh.primitives.Box(extents=[10, 10, 0.1])\n",
    "scene = trimesh.Scene(plane)\n",
    "glb_data = trimesh.exchange.gltf.export_glb(scene)\n",
    "with open('empty_scene.glb', 'wb') as f:\n",
    "    f.write(glb_data)"
   ]
  },
  {
   "cell_type": "code",
   "execution_count": null,
   "id": "ccb4da20-64e1-4d24-ad66-303cdb5b971f",
   "metadata": {},
   "outputs": [],
   "source": [
    "import trimesh\n",
    "import pandas as pd\n",
    "from trimesh.visual import ColorVisuals\n",
    "\n",
    "yellow = [183, 255, 84]\n",
    "red = [255, 0, 0] \n",
    "\n",
    "df = pd.read_csv('IR_wavs/source_positions.csv')\n",
    "coords = df[['x', 'y', 'z']].values\n",
    "\n",
    "# make the mic sphere red so it is visually distinguishable \n",
    "x, y, z = coords[0]\n",
    "first_sphere = trimesh.creation.uv_sphere(radius=0.2)\n",
    "first_sphere.apply_translation([x, y, z])\n",
    "first_sphere.visual.face_colors = red\n",
    "\n",
    "spheres = []\n",
    "radius = 0.2\n",
    "for x, y, z in coords[1:]:\n",
    "    sphere = trimesh.creation.uv_sphere(radius=radius)\n",
    "    sphere.apply_translation([x, y, z])\n",
    "    sphere.visual.face_colors = yellow\n",
    "    spheres.append(sphere)\n",
    "\n",
    "glb_file = 'empty_scene.glb'\n",
    "scene = trimesh.load(glb_file)\n",
    "\n",
    "scene.add_geometry(first_sphere)\n",
    "for sphere in spheres:\n",
    "    scene.add_geometry(sphere)\n",
    "\n",
    "scene.show()"
   ]
  }
 ],
 "metadata": {
  "kernelspec": {
   "display_name": "soundspaces",
   "language": "python",
   "name": "soundspaces"
  },
  "language_info": {
   "codemirror_mode": {
    "name": "ipython",
    "version": 3
   },
   "file_extension": ".py",
   "mimetype": "text/x-python",
   "name": "python",
   "nbconvert_exporter": "python",
   "pygments_lexer": "ipython3",
   "version": "3.9.19"
  }
 },
 "nbformat": 4,
 "nbformat_minor": 5
}
